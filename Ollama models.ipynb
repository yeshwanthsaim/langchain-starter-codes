{
 "cells": [
  {
   "cell_type": "code",
   "execution_count": 1,
   "id": "f9809044-a9f9-4c1c-87a6-0e6759f07cff",
   "metadata": {},
   "outputs": [],
   "source": [
    "# installation\n",
    "# pip install -U langchain-ollama"
   ]
  },
  {
   "cell_type": "code",
   "execution_count": 2,
   "id": "77ec62ca-96ad-4d56-8c87-423004ad578e",
   "metadata": {},
   "outputs": [],
   "source": [
    "# libraries\n",
    "from langchain_core.prompts import ChatPromptTemplate\n",
    "from langchain_ollama.llms import OllamaLLM"
   ]
  },
  {
   "cell_type": "code",
   "execution_count": 3,
   "id": "25473085-6d60-4b78-9f51-e7b3304b18d1",
   "metadata": {},
   "outputs": [],
   "source": [
    "model = OllamaLLM(model=\"llama3.2\")"
   ]
  },
  {
   "cell_type": "code",
   "execution_count": 6,
   "id": "88ffa669-8824-4dd0-b7b3-9c03f24e29fe",
   "metadata": {},
   "outputs": [],
   "source": [
    "template = \"\"\"Question: {question}\n",
    "\n",
    "Answer: Let's think step by step.\"\"\"\n",
    "\n",
    "prompt = ChatPromptTemplate.from_template(template)\n",
    "\n",
    "chain = prompt | model\n",
    "\n",
    "response = chain.invoke({\"question\": \"What is Langchain\"})"
   ]
  },
  {
   "cell_type": "code",
   "execution_count": 7,
   "id": "5c128f5d-2508-44d2-9c59-45a9c3377108",
   "metadata": {},
   "outputs": [
    {
     "name": "stdout",
     "output_type": "stream",
     "text": [
      "To answer your question, \"What is Langchain\", let's break it down step by step:\n",
      "\n",
      "1. **Definition**: Langchain is an open-source framework that enables the creation of custom, explainable, and interpretable AI models.\n",
      "2. **Core Concept**: It focuses on building modular, composable models that can be easily understood and explained by humans, unlike traditional deep learning models that are often complex and opaque.\n",
      "3. **Key Features**:\n",
      "\t* Modular design: allows for easy modification and reuse of components\n",
      "\t* Explainability: provides tools to understand the decision-making process of AI models\n",
      "\t* Interpretability: enables insights into how the model works\n",
      "4. **Applications**: Langchain has potential applications in various fields, such as:\n",
      "\t* Natural Language Processing (NLP)\n",
      "\t* Computer Vision\n",
      "\t* Robotics\n",
      "\t* Decision Support Systems\n",
      "5. **Benefits**: By providing more transparent and explainable AI models, Langchain can help build trust in AI systems, improve decision-making, and facilitate collaboration between humans and machines.\n",
      "\n",
      "Is this the answer you were looking for?\n"
     ]
    }
   ],
   "source": [
    "print(response)"
   ]
  },
  {
   "cell_type": "code",
   "execution_count": null,
   "id": "ddd9172a-50bf-4ad5-b6fe-62eb9fb39ce7",
   "metadata": {},
   "outputs": [],
   "source": []
  }
 ],
 "metadata": {
  "kernelspec": {
   "display_name": "Python 3 (ipykernel)",
   "language": "python",
   "name": "python3"
  },
  "language_info": {
   "codemirror_mode": {
    "name": "ipython",
    "version": 3
   },
   "file_extension": ".py",
   "mimetype": "text/x-python",
   "name": "python",
   "nbconvert_exporter": "python",
   "pygments_lexer": "ipython3",
   "version": "3.10.14"
  }
 },
 "nbformat": 4,
 "nbformat_minor": 5
}
