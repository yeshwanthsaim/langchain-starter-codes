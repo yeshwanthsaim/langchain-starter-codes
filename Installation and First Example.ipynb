{
 "cells": [
  {
   "cell_type": "raw",
   "id": "468b5684-cee4-4701-942f-2904d7f1bd17",
   "metadata": {},
   "source": [
    "Langchain - best way to get ai apps build and maintain"
   ]
  },
  {
   "cell_type": "code",
   "execution_count": 1,
   "id": "94a72ac8-3f6f-45bb-b30a-69c1b9f6b920",
   "metadata": {},
   "outputs": [],
   "source": [
    "# installing langchain\n",
    "# pip install langchain\n",
    "\n",
    "# installing specifi ai model providers\n",
    "# pip install -qU langchain-openai # for open ai\n",
    "# pip install -qU langchain-anthropic # for antropic\n",
    "# pip install -qU langchain-google-vertexai # for google \n",
    "# pip install -qU langchain-cohere # for cohere\n",
    "# pip install -qU langchain-nvidia-ai-endpoints # for nvidia\n",
    "# pip install -qU langchain-fireworks # for fireworks\n",
    "# pip install -qU langchain-groq # for groq\n",
    "# pip install -qU langchain-mistralai # for mistral "
   ]
  },
  {
   "cell_type": "code",
   "execution_count": null,
   "id": "9cc5a3aa-3909-4664-9db2-2a7f0bba9db9",
   "metadata": {},
   "outputs": [],
   "source": []
  },
  {
   "cell_type": "code",
   "execution_count": null,
   "id": "a17f8d97-e7f2-48fe-9999-f5b78730a483",
   "metadata": {},
   "outputs": [],
   "source": []
  },
  {
   "cell_type": "code",
   "execution_count": 2,
   "id": "1bf3a320-0106-4a23-9523-c2389e6e882b",
   "metadata": {},
   "outputs": [
    {
     "data": {
      "text/plain": [
       "'0.3.1'"
      ]
     },
     "execution_count": 2,
     "metadata": {},
     "output_type": "execute_result"
    }
   ],
   "source": [
    "# Check the version\n",
    "# Currently we are using 0.3.1\n",
    "import langchain\n",
    "langchain.__version__"
   ]
  },
  {
   "cell_type": "code",
   "execution_count": 3,
   "id": "3ba2808c-91e3-4592-88f5-60b165dd8ed6",
   "metadata": {},
   "outputs": [],
   "source": [
    "# Creating models for each specific ai model providers"
   ]
  },
  {
   "cell_type": "code",
   "execution_count": null,
   "id": "61e75d5d-8032-45a5-8983-4d7a2d242278",
   "metadata": {},
   "outputs": [],
   "source": [
    "# Open ai\n",
    "import getpass\n",
    "import os\n",
    "os.environ[\"OPENAI_API_KEY\"] = getpass.getpass()\n",
    "\n",
    "from langchain_openai import ChatOpenAI\n",
    "model = ChatOpenAI(model=\"gpt-4\")"
   ]
  },
  {
   "cell_type": "code",
   "execution_count": null,
   "id": "22cf1739-f633-4375-a56c-460ebaabcacd",
   "metadata": {},
   "outputs": [],
   "source": [
    "# for antropic\n",
    "import getpass\n",
    "import os\n",
    "os.environ[\"ANTHROPIC_API_KEY\"] = getpass.getpass()\n",
    "\n",
    "from langchain_anthropic import ChatAnthropic\n",
    "model = ChatAnthropic(model=\"claude-3-5-sonnet-20240620\")"
   ]
  },
  {
   "cell_type": "code",
   "execution_count": null,
   "id": "d505d7ef-ccf5-4041-8314-355c35fd8482",
   "metadata": {},
   "outputs": [],
   "source": [
    "# for azure\n",
    "import getpass\n",
    "import os\n",
    "\n",
    "os.environ[\"AZURE_OPENAI_API_KEY\"] = getpass.getpass()\n",
    "\n",
    "from langchain_openai import AzureChatOpenAI\n",
    "model = AzureChatOpenAI(\n",
    "    azure_endpoint=os.environ[\"AZURE_OPENAI_ENDPOINT\"],\n",
    "    azure_deployment=os.environ[\"AZURE_OPENAI_DEPLOYMENT_NAME\"],\n",
    "    openai_api_version=os.environ[\"AZURE_OPENAI_API_VERSION\"],\n",
    ")"
   ]
  },
  {
   "cell_type": "code",
   "execution_count": null,
   "id": "762625c8-5472-4c03-9d47-84672e3fbbaa",
   "metadata": {},
   "outputs": [],
   "source": [
    "# google \n",
    "import getpass\n",
    "import os\n",
    "os.environ[\"GOOGLE_API_KEY\"] = getpass.getpass()\n",
    "\n",
    "from langchain_google_vertexai import ChatVertexAI\n",
    "model = ChatVertexAI(model=\"gemini-1.5-flash\")"
   ]
  },
  {
   "cell_type": "code",
   "execution_count": null,
   "id": "1c86e2eb-012f-45f4-b30f-3ceda3be33b1",
   "metadata": {},
   "outputs": [],
   "source": [
    "# cohere\n",
    "import getpass\n",
    "import os\n",
    "os.environ[\"COHERE_API_KEY\"] = getpass.getpass()\n",
    "\n",
    "from langchain_cohere import ChatCohere\n",
    "model = ChatCohere(model=\"command-r-plus\")"
   ]
  },
  {
   "cell_type": "code",
   "execution_count": null,
   "id": "09e2aee0-aa9b-4028-9b8e-47dc127a8f3f",
   "metadata": {},
   "outputs": [],
   "source": [
    "# nvidia\n",
    "import getpass\n",
    "import os\n",
    "os.environ[\"NVIDIA_API_KEY\"] = getpass.getpass()\n",
    "\n",
    "from langchain import ChatNVIDIA\n",
    "model = ChatNVIDIA(model=\"meta/llama3-70b-instruct\")"
   ]
  },
  {
   "cell_type": "code",
   "execution_count": null,
   "id": "f2a27e55-679f-49aa-bd4a-ae59d9e600dd",
   "metadata": {},
   "outputs": [],
   "source": [
    "# fireworks\n",
    "import getpass\n",
    "import os\n",
    "os.environ[\"FIREWORKS_API_KEY\"] = getpass.getpass()\n",
    "\n",
    "from langchain_fireworks import ChatFireworks\n",
    "model = ChatFireworks(model=\"accounts/fireworks/models/llama-v3p1-70b-instruct\")"
   ]
  },
  {
   "cell_type": "code",
   "execution_count": null,
   "id": "da0256aa-e87b-4c22-a2c6-c2fcea66a84a",
   "metadata": {},
   "outputs": [],
   "source": [
    "# groq\n",
    "import getpass\n",
    "import os\n",
    "os.environ[\"GROQ_API_KEY\"] = getpass.getpass()\n",
    "\n",
    "from langchain_groq import ChatGroq\n",
    "model = ChatGroq(model=\"llama3-8b-8192\")"
   ]
  },
  {
   "cell_type": "code",
   "execution_count": null,
   "id": "ce7cfdf3-1d15-4bfa-aadd-632ccd1075f0",
   "metadata": {},
   "outputs": [],
   "source": [
    "# mistral\n",
    "import getpass\n",
    "import os\n",
    "os.environ[\"MISTRAL_API_KEY\"] = getpass.getpass()\n",
    "\n",
    "from langchain_mistralai import ChatMistralAI\n",
    "model = ChatMistralAI(model=\"mistral-large-latest\")"
   ]
  },
  {
   "cell_type": "code",
   "execution_count": null,
   "id": "02a98d25-c621-4c69-91fe-c790c36a8032",
   "metadata": {},
   "outputs": [],
   "source": [
    "# together ai\n",
    "import getpass\n",
    "import os\n",
    "os.environ[\"TOGETHER_API_KEY\"] = getpass.getpass()\n",
    "\n",
    "from langchain_openai import ChatOpenAI\n",
    "model = ChatOpenAI(\n",
    "    base_url=\"https://api.together.xyz/v1\",\n",
    "    api_key=os.environ[\"TOGETHER_API_KEY\"],\n",
    "    model=\"mistralai/Mixtral-8x7B-Instruct-v0.1\",\n",
    ")"
   ]
  },
  {
   "cell_type": "code",
   "execution_count": 4,
   "id": "4c67b170-c354-4bd1-bb2d-b4aa09bef2ff",
   "metadata": {},
   "outputs": [],
   "source": [
    "# Llama | Locally"
   ]
  },
  {
   "cell_type": "code",
   "execution_count": null,
   "id": "23404309-12ed-4cf9-bb8c-b4267700b6d2",
   "metadata": {},
   "outputs": [],
   "source": [
    "# Creating first message \n",
    "# consider this as helloworld kind!\n",
    "# Ask Hi and ask AI to return in your own language"
   ]
  },
  {
   "cell_type": "code",
   "execution_count": null,
   "id": "1a77ee74-5940-47c2-9168-b333099821de",
   "metadata": {},
   "outputs": [],
   "source": [
    "from langchain_core.messages import HumanMessage, SystemMessage\n",
    "\n",
    "messages = [\n",
    "    SystemMessage(content=\"Translate the following from English into Italian\"),\n",
    "    HumanMessage(content=\"hi!\"),\n",
    "]\n",
    "\n",
    "model.invoke(messages)"
   ]
  },
  {
   "cell_type": "code",
   "execution_count": null,
   "id": "4a839f6b-c3e5-4a34-a715-f36e0002e39b",
   "metadata": {},
   "outputs": [],
   "source": [
    "from langchain_core.output_parsers import StrOutputParser\n",
    "\n",
    "parser = StrOutputParser()"
   ]
  },
  {
   "cell_type": "code",
   "execution_count": null,
   "id": "e7d533b2-1af7-404a-965f-78607515e9d0",
   "metadata": {},
   "outputs": [],
   "source": [
    "result = model.invoke(messages)\n",
    "parser.invoke(result)"
   ]
  },
  {
   "cell_type": "code",
   "execution_count": null,
   "id": "250edf06-9f92-4574-a4e3-18a26c75b85b",
   "metadata": {},
   "outputs": [],
   "source": []
  },
  {
   "cell_type": "code",
   "execution_count": null,
   "id": "7c7c48b0-52c7-4ff9-8523-099b56d43ea2",
   "metadata": {},
   "outputs": [],
   "source": [
    "# chains\n",
    "chain = model | parser"
   ]
  },
  {
   "cell_type": "code",
   "execution_count": null,
   "id": "619ed18a-882b-49a8-ae2d-b8139cd5cb5b",
   "metadata": {},
   "outputs": [],
   "source": [
    "chain.invoke(messages)"
   ]
  }
 ],
 "metadata": {
  "kernelspec": {
   "display_name": "Python 3 (ipykernel)",
   "language": "python",
   "name": "python3"
  },
  "language_info": {
   "codemirror_mode": {
    "name": "ipython",
    "version": 3
   },
   "file_extension": ".py",
   "mimetype": "text/x-python",
   "name": "python",
   "nbconvert_exporter": "python",
   "pygments_lexer": "ipython3",
   "version": "3.10.14"
  }
 },
 "nbformat": 4,
 "nbformat_minor": 5
}
